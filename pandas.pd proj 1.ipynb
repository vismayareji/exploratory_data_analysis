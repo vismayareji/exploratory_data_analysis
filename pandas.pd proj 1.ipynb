{
 "cells": [
  {
   "cell_type": "markdown",
   "metadata": {},
   "source": [
    "FOOD SALE DATA"
   ]
  },
  {
   "cell_type": "markdown",
   "metadata": {},
   "source": [
    "\"This dataset contains details about fast food sales.So,the dataset contains various information regarding customer transactions,\n",
    "product details,purchasing method\"."
   ]
  },
  {
   "cell_type": "markdown",
   "metadata": {},
   "source": [
    "# libraries imported and dataset loaded"
   ]
  },
  {
   "cell_type": "code",
   "execution_count": 2,
   "metadata": {},
   "outputs": [
    {
     "name": "stdout",
     "output_type": "stream",
     "text": [
      "   order_id        date        item_name  item_type  item_price  quantity  \\\n",
      "0         1  07-03-2022         Aalopuri   Fastfood          20        13   \n",
      "1         2   8/23/2022          Vadapav   Fastfood          20        15   \n",
      "2         3  11/20/2022          Vadapav   Fastfood          20         1   \n",
      "3         4  02-03-2023  Sugarcane juice  Beverages          25         6   \n",
      "4         5  10-02-2022  Sugarcane juice  Beverages          25         8   \n",
      "\n",
      "   transaction_amount transaction_type received_by time_of_sale  \n",
      "0                 260              NaN         Mr.        Night  \n",
      "1                 300             Cash         Mr.    Afternoon  \n",
      "2                  20             Cash         Mr.    Afternoon  \n",
      "3                 150           Online         Mr.        Night  \n",
      "4                 200           Online         Mr.      Evening  \n",
      "<class 'pandas.core.frame.DataFrame'>\n",
      "RangeIndex: 1000 entries, 0 to 999\n",
      "Data columns (total 10 columns):\n",
      " #   Column              Non-Null Count  Dtype \n",
      "---  ------              --------------  ----- \n",
      " 0   order_id            1000 non-null   int64 \n",
      " 1   date                1000 non-null   object\n",
      " 2   item_name           1000 non-null   object\n",
      " 3   item_type           1000 non-null   object\n",
      " 4   item_price          1000 non-null   int64 \n",
      " 5   quantity            1000 non-null   int64 \n",
      " 6   transaction_amount  1000 non-null   int64 \n",
      " 7   transaction_type    893 non-null    object\n",
      " 8   received_by         1000 non-null   object\n",
      " 9   time_of_sale        1000 non-null   object\n",
      "dtypes: int64(4), object(6)\n",
      "memory usage: 78.2+ KB\n",
      "None\n",
      "order_id                0\n",
      "date                    0\n",
      "item_name               0\n",
      "item_type               0\n",
      "item_price              0\n",
      "quantity                0\n",
      "transaction_amount      0\n",
      "transaction_type      107\n",
      "received_by             0\n",
      "time_of_sale            0\n",
      "dtype: int64\n",
      "     order_id       date item_name item_type  item_price  quantity  \\\n",
      "995       996  3/19/2023   Frankie  Fastfood          50        10   \n",
      "996       997  9/20/2022  Sandwich  Fastfood          60         7   \n",
      "997       998  1/26/2023  Sandwich  Fastfood          60        13   \n",
      "998       999  8/27/2022  Panipuri  Fastfood          20         5   \n",
      "999      1000  5/29/2022  Aalopuri  Fastfood          20         3   \n",
      "\n",
      "     transaction_amount transaction_type received_by time_of_sale  \n",
      "995                 500              NaN        Mrs.      Evening  \n",
      "996                 420              NaN         Mr.      Evening  \n",
      "997                 780              NaN         Mr.      Evening  \n",
      "998                 100              NaN        Mrs.    Afternoon  \n",
      "999                  60           Online        Mrs.     Midnight  \n"
     ]
    }
   ],
   "source": [
    "import pandas as pd \n",
    "import numpy as np\n",
    "import matplotlib.pyplot as plt\n",
    "import seaborn as sns\n",
    "df=pd.read_csv( \"C:\\Data science\\DATA SET\\Balaji Fast Food Sales.csv\")\n",
    "print(df.head())\n",
    "print(df.info())\n",
    "print(df.isna().sum())\n",
    "print(df.tail())\n"
   ]
  },
  {
   "cell_type": "markdown",
   "metadata": {},
   "source": [
    "dropping null values from the data function using dropna"
   ]
  },
  {
   "cell_type": "code",
   "execution_count": 3,
   "metadata": {},
   "outputs": [
    {
     "name": "stdout",
     "output_type": "stream",
     "text": [
      "order_id              0\n",
      "date                  0\n",
      "item_name             0\n",
      "item_type             0\n",
      "item_price            0\n",
      "quantity              0\n",
      "transaction_amount    0\n",
      "transaction_type      0\n",
      "received_by           0\n",
      "time_of_sale          0\n",
      "dtype: int64\n"
     ]
    }
   ],
   "source": [
    "df.dropna(inplace=True)\n",
    "print(df.isna().sum())"
   ]
  },
  {
   "cell_type": "markdown",
   "metadata": {},
   "source": [
    "checking duplicate values using duplicated()"
   ]
  },
  {
   "cell_type": "code",
   "execution_count": 4,
   "metadata": {},
   "outputs": [
    {
     "name": "stdout",
     "output_type": "stream",
     "text": [
      "0\n"
     ]
    }
   ],
   "source": [
    "print(df.duplicated().sum())"
   ]
  },
  {
   "cell_type": "markdown",
   "metadata": {},
   "source": [
    "checking datetime method using to_ datetime()..\n",
    "using astype method\n"
   ]
  },
  {
   "cell_type": "code",
   "execution_count": 5,
   "metadata": {},
   "outputs": [
    {
     "name": "stdout",
     "output_type": "stream",
     "text": [
      "1     2022-08-23\n",
      "2     2022-11-20\n",
      "3     2023-02-03\n",
      "4     2022-10-02\n",
      "5     2022-11-14\n",
      "         ...    \n",
      "991   2022-10-21\n",
      "992   2022-07-17\n",
      "993   2022-11-01\n",
      "994   2022-06-18\n",
      "999   2022-05-29\n",
      "Name: date, Length: 893, dtype: datetime64[s]\n"
     ]
    }
   ],
   "source": [
    "df[\"date\"]=df['date'].astype('datetime64[s]')\n",
    "df['date']=pd.to_datetime(df['date'])\n",
    "print(df['date'])"
   ]
  },
  {
   "cell_type": "markdown",
   "metadata": {},
   "source": [
    "finding outliers using boxplot in seaborn"
   ]
  },
  {
   "cell_type": "code",
   "execution_count": 6,
   "metadata": {},
   "outputs": [
    {
     "data": {
      "text/plain": [
       "([0, 1, 2, 3],\n",
       " [Text(0, 0, 'order_id'),\n",
       "  Text(1, 0, 'item_price'),\n",
       "  Text(2, 0, 'quantity'),\n",
       "  Text(3, 0, 'transaction_amount')])"
      ]
     },
     "execution_count": 6,
     "metadata": {},
     "output_type": "execute_result"
    },
    {
     "data": {
      "image/png": "[encoded data removed]",
      "text/plain": [
       "<Figure size 640x480 with 1 Axes>"
      ]
     },
     "metadata": {},
     "output_type": "display_data"
    }
   ],
   "source": [
    "import seaborn as sns\n",
    "import matplotlib.pyplot as plt\n",
    "sns.boxplot(data=df)\n",
    "plt.xticks(rotation=90)"
   ]
  },
  {
   "cell_type": "code",
   "execution_count": 6,
   "metadata": {},
   "outputs": [
    {
     "name": "stdout",
     "output_type": "stream",
     "text": [
      "     order_id        date        item_name  item_type  item_price  quantity  \\\n",
      "0           1  07-03-2022         Aalopuri   Fastfood          20        13   \n",
      "1           2   8/23/2022          Vadapav   Fastfood          20        15   \n",
      "2           3  11/20/2022          Vadapav   Fastfood          20         1   \n",
      "3           4  02-03-2023  Sugarcane juice  Beverages          25         6   \n",
      "4           5  10-02-2022  Sugarcane juice  Beverages          25         8   \n",
      "..        ...         ...              ...        ...         ...       ...   \n",
      "994       995   6/18/2022  Sugarcane juice  Beverages          25         1   \n",
      "995       996   3/19/2023          Frankie   Fastfood          50        10   \n",
      "996       997   9/20/2022         Sandwich   Fastfood          60         7   \n",
      "998       999   8/27/2022         Panipuri   Fastfood          20         5   \n",
      "999      1000   5/29/2022         Aalopuri   Fastfood          20         3   \n",
      "\n",
      "     transaction_amount transaction_type received_by time_of_sale  \n",
      "0                   260              NaN         Mr.        Night  \n",
      "1                   300             Cash         Mr.    Afternoon  \n",
      "2                    20             Cash         Mr.    Afternoon  \n",
      "3                   150           Online         Mr.        Night  \n",
      "4                   200           Online         Mr.      Evening  \n",
      "..                  ...              ...         ...          ...  \n",
      "994                  25           Online         Mr.        Night  \n",
      "995                 500              NaN        Mrs.      Evening  \n",
      "996                 420              NaN         Mr.      Evening  \n",
      "998                 100              NaN        Mrs.    Afternoon  \n",
      "999                  60           Online        Mrs.     Midnight  \n",
      "\n",
      "[922 rows x 10 columns]\n"
     ]
    }
   ],
   "source": [
    "df[\"z_score\"]=(df['transaction_amount']-df['transaction_amount'].mean())/df['transaction_amount'].std()\n",
    "#define threshold for identifying outliers\n",
    "threshold=2\n",
    "#remove rows where the absolute z-score is greater than the threshold\n",
    "df_no_outliers=df[df['z_score'].abs()<=threshold]\n",
    "#drop the z-score coloumn if its no longer needed\n",
    "df=df_no_outliers.drop(columns=['z_score'])\n",
    "#display the dataset without outliers\n",
    "print(df)"
   ]
  },
  {
   "cell_type": "code",
   "execution_count": 7,
   "metadata": {},
   "outputs": [
    {
     "data": {
      "text/plain": [
       "([0, 1, 2, 3],\n",
       " [Text(0, 0, 'order_id'),\n",
       "  Text(1, 0, 'item_price'),\n",
       "  Text(2, 0, 'quantity'),\n",
       "  Text(3, 0, 'transaction_amount')])"
      ]
     },
     "execution_count": 7,
     "metadata": {},
     "output_type": "execute_result"
    },
    {
     "data": {
      "image/png": "[encoded data removed]",
      "text/plain": [
       "<Figure size 640x480 with 1 Axes>"
      ]
     },
     "metadata": {},
     "output_type": "display_data"
    }
   ],
   "source": [
    "sns.boxplot(data=df)\n",
    "plt.xticks(rotation=90)"
   ]
  },
  {
   "cell_type": "markdown",
   "metadata": {},
   "source": [
    "statistical analysis.....\n",
    "\n",
    " :To check correlation "
   ]
  },
  {
   "cell_type": "code",
   "execution_count": null,
   "metadata": {},
   "outputs": [
    {
     "name": "stdout",
     "output_type": "stream",
     "text": [
      "                    order_id  item_price  quantity  transaction_amount\n",
      "order_id            1.000000    0.037028  0.010345            0.043970\n",
      "item_price          0.037028    1.000000  0.050361            0.637238\n",
      "quantity            0.010345    0.050361  1.000000            0.731806\n",
      "transaction_amount  0.043970    0.637238  0.731806            1.000000\n"
     ]
    }
   ],
   "source": [
    "\n",
    "print(df.corr(numeric_only=True))\n"
   ]
  },
  {
   "cell_type": "markdown",
   "metadata": {},
   "source": [
    ":To check co-variance"
   ]
  },
  {
   "cell_type": "code",
   "execution_count": 9,
   "metadata": {},
   "outputs": [
    {
     "name": "stdout",
     "output_type": "stream",
     "text": [
      "                        order_id   item_price    quantity  transaction_amount\n",
      "order_id            83416.666667   159.577077   13.185185         2595.785786\n",
      "item_price            159.577077   222.658433    3.316286         1943.606156\n",
      "quantity               13.185185     3.316286   19.475231          660.122863\n",
      "transaction_amount   2595.785786  1943.606156  660.122863        41780.577678\n"
     ]
    }
   ],
   "source": [
    "print(df.cov(numeric_only=True))"
   ]
  },
  {
   "cell_type": "markdown",
   "metadata": {},
   "source": [
    ":To check standard deviation"
   ]
  },
  {
   "cell_type": "code",
   "execution_count": 10,
   "metadata": {},
   "outputs": [
    {
     "name": "stdout",
     "output_type": "stream",
     "text": [
      "order_id              288.819436\n",
      "item_price             14.921744\n",
      "quantity                4.413075\n",
      "transaction_amount    204.402979\n",
      "dtype: float64\n"
     ]
    }
   ],
   "source": [
    "print(df.std(numeric_only=True))"
   ]
  },
  {
   "cell_type": "markdown",
   "metadata": {},
   "source": [
    "ANALYSING QUESTIONS"
   ]
  },
  {
   "cell_type": "markdown",
   "metadata": {},
   "source": [
    "1 HIGHEST PRICE OF ITEM"
   ]
  },
  {
   "cell_type": "code",
   "execution_count": null,
   "metadata": {},
   "outputs": [
    {
     "data": {
      "text/plain": [
       "max    60\n",
       "Name: item_price, dtype: int64"
      ]
     },
     "execution_count": 11,
     "metadata": {},
     "output_type": "execute_result"
    }
   ],
   "source": [
    "\n",
    "import pandas as pd\n",
    "df=pd.read_csv( \"C:\\Data science\\DATA SET\\Balaji Fast Food Sales.csv\")\n",
    "df['item_price'].agg(['max'])\n",
    "#df.info()\n",
    "#print(df.max(column=\"item_price\"))"
   ]
  },
  {
   "cell_type": "markdown",
   "metadata": {},
   "source": [
    "2 LOWEST QUANTITY OF ITEM"
   ]
  },
  {
   "cell_type": "code",
   "execution_count": null,
   "metadata": {},
   "outputs": [
    {
     "data": {
      "text/plain": [
       "max    15\n",
       "Name: quantity, dtype: int64"
      ]
     },
     "execution_count": 12,
     "metadata": {},
     "output_type": "execute_result"
    }
   ],
   "source": [
    "\n",
    "import pandas as pd\n",
    "df=pd.read_csv( \"C:\\Data science\\DATA SET\\Balaji Fast Food Sales.csv\")\n",
    "df['quantity'].agg(['max'])\n",
    "#df.info()\n",
    "#print(df.max(column=\"quantity\"))\n",
    " "
   ]
  },
  {
   "cell_type": "markdown",
   "metadata": {},
   "source": [
    "3 HIGHEST TRANSACTION AMOUNT"
   ]
  },
  {
   "cell_type": "code",
   "execution_count": null,
   "metadata": {},
   "outputs": [
    {
     "data": {
      "text/plain": [
       "max    900\n",
       "Name: transaction_amount, dtype: int64"
      ]
     },
     "execution_count": 13,
     "metadata": {},
     "output_type": "execute_result"
    }
   ],
   "source": [
    "\n",
    "import pandas as pd\n",
    "df=pd.read_csv( \"C:\\Data science\\DATA SET\\Balaji Fast Food Sales.csv\")\n",
    "df['transaction_amount'].agg(['max'])\n",
    "#df.info()\n",
    "#print(df.max(column=\"transaction_amount\"))"
   ]
  },
  {
   "cell_type": "markdown",
   "metadata": {},
   "source": [
    "4 FIND THE COR-RELATION AND PLT HEAT MAP"
   ]
  },
  {
   "cell_type": "code",
   "execution_count": null,
   "metadata": {},
   "outputs": [
    {
     "name": "stdout",
     "output_type": "stream",
     "text": [
      "                    order_id  item_price  quantity  transaction_amount\n",
      "order_id            1.000000    0.037028  0.010345            0.043970\n",
      "item_price          0.037028    1.000000  0.050361            0.637238\n",
      "quantity            0.010345    0.050361  1.000000            0.731806\n",
      "transaction_amount  0.043970    0.637238  0.731806            1.000000\n"
     ]
    },
    {
     "data": {
      "image/png": "[encoded data removed]",
      "text/plain": [
       "<Figure size 640x480 with 2 Axes>"
      ]
     },
     "metadata": {},
     "output_type": "display_data"
    }
   ],
   "source": [
    "\n",
    "import pandas as pd\n",
    "import seaborn as sns\n",
    "import matplotlib.pyplot as plt\n",
    "df=pd.read_csv( \"C:\\Data science\\DATA SET\\Balaji Fast Food Sales.csv\")\n",
    "#print(df.corr(),dtype=false)\n",
    "corr=df.corr(numeric_only=True)\n",
    "print(corr)\n",
    "sns.heatmap(corr)\n",
    "plt.show()"
   ]
  },
  {
   "cell_type": "markdown",
   "metadata": {},
   "source": [
    "5 GROUPED BY MOST SELLING ITEM"
   ]
  },
  {
   "cell_type": "code",
   "execution_count": 15,
   "metadata": {},
   "outputs": [
    {
     "name": "stdout",
     "output_type": "stream",
     "text": [
      "{'Beverages': [3, 4, 6, 19, 20, 21, 23, 25, 26, 27, 28, 30, 35, 40, 43, 44, 51, 59, 61, 63, 67, 69, 70, 73, 74, 76, 87, 90, 92, 94, 96, 98, 101, 102, 103, 108, 115, 120, 122, 123, 129, 136, 141, 149, 151, 154, 158, 160, 163, 166, 171, 172, 178, 180, 181, 182, 183, 184, 189, 190, 192, 199, 203, 206, 207, 209, 211, 213, 214, 216, 217, 219, 223, 226, 230, 240, 241, 246, 248, 249, 250, 252, 253, 259, 263, 267, 273, 275, 276, 297, 302, 305, 311, 312, 314, 319, 321, 323, 332, 333, ...], 'Fastfood': [0, 1, 2, 5, 7, 8, 9, 10, 11, 12, 13, 14, 15, 16, 17, 18, 22, 24, 29, 31, 32, 33, 34, 36, 37, 38, 39, 41, 42, 45, 46, 47, 48, 49, 50, 52, 53, 54, 55, 56, 57, 58, 60, 62, 64, 65, 66, 68, 71, 72, 75, 77, 78, 79, 80, 81, 82, 83, 84, 85, 86, 88, 89, 91, 93, 95, 97, 99, 100, 104, 105, 106, 107, 109, 110, 111, 112, 113, 114, 116, 117, 118, 119, 121, 124, 125, 126, 127, 128, 130, 131, 132, 133, 134, 135, 137, 138, 139, 140, 142, ...]}\n"
     ]
    }
   ],
   "source": [
    "import pandas as pd\n",
    "df=pd.read_csv( \"C:\\Data science\\DATA SET\\Balaji Fast Food Sales.csv\")\n",
    "print(df.groupby('item_type').groups)"
   ]
  },
  {
   "cell_type": "markdown",
   "metadata": {},
   "source": [
    "6 GROUPED BY ITEM TYPE"
   ]
  },
  {
   "cell_type": "code",
   "execution_count": null,
   "metadata": {},
   "outputs": [
    {
     "name": "stdout",
     "output_type": "stream",
     "text": [
      "Beverages\n",
      "     order_id        date        item_name  item_type  item_price  quantity  \\\n",
      "3           4  02-03-2023  Sugarcane juice  Beverages          25         6   \n",
      "4           5  10-02-2022  Sugarcane juice  Beverages          25         8   \n",
      "6           7  05-03-2022  Sugarcane juice  Beverages          25         9   \n",
      "19         20   9/15/2022      Cold coffee  Beverages          40        10   \n",
      "20         21  12/21/2022      Cold coffee  Beverages          40        15   \n",
      "..        ...         ...              ...        ...         ...       ...   \n",
      "981       982   3/30/2023  Sugarcane juice  Beverages          25        14   \n",
      "982       983   3/17/2023      Cold coffee  Beverages          40        10   \n",
      "985       986   4/30/2022  Sugarcane juice  Beverages          25        13   \n",
      "988       989  10-11-2022      Cold coffee  Beverages          40        13   \n",
      "994       995   6/18/2022  Sugarcane juice  Beverages          25         1   \n",
      "\n",
      "     transaction_amount transaction_type received_by time_of_sale  \n",
      "3                   150           Online         Mr.        Night  \n",
      "4                   200           Online         Mr.      Evening  \n",
      "6                   225             Cash         Mr.      Evening  \n",
      "19                  400           Online         Mr.        Night  \n",
      "20                  600             Cash         Mr.      Evening  \n",
      "..                  ...              ...         ...          ...  \n",
      "981                 350             Cash        Mrs.        Night  \n",
      "982                 400              NaN        Mrs.        Night  \n",
      "985                 325           Online         Mr.        Night  \n",
      "988                 520             Cash         Mr.    Afternoon  \n",
      "994                  25           Online         Mr.        Night  \n",
      "\n",
      "[314 rows x 10 columns]\n",
      "Fastfood\n",
      "     order_id        date item_name item_type  item_price  quantity  \\\n",
      "0           1  07-03-2022  Aalopuri  Fastfood          20        13   \n",
      "1           2   8/23/2022   Vadapav  Fastfood          20        15   \n",
      "2           3  11/20/2022   Vadapav  Fastfood          20         1   \n",
      "5           6  11/14/2022   Vadapav  Fastfood          20        10   \n",
      "7           8  12/22/2022  Panipuri  Fastfood          20        14   \n",
      "..        ...         ...       ...       ...         ...       ...   \n",
      "995       996   3/19/2023   Frankie  Fastfood          50        10   \n",
      "996       997   9/20/2022  Sandwich  Fastfood          60         7   \n",
      "997       998   1/26/2023  Sandwich  Fastfood          60        13   \n",
      "998       999   8/27/2022  Panipuri  Fastfood          20         5   \n",
      "999      1000   5/29/2022  Aalopuri  Fastfood          20         3   \n",
      "\n",
      "     transaction_amount transaction_type received_by time_of_sale  \n",
      "0                   260              NaN         Mr.        Night  \n",
      "1                   300             Cash         Mr.    Afternoon  \n",
      "2                    20             Cash         Mr.    Afternoon  \n",
      "5                   200             Cash         Mr.      Evening  \n",
      "7                   280           Online         Mr.        Night  \n",
      "..                  ...              ...         ...          ...  \n",
      "995                 500              NaN        Mrs.      Evening  \n",
      "996                 420              NaN         Mr.      Evening  \n",
      "997                 780              NaN         Mr.      Evening  \n",
      "998                 100              NaN        Mrs.    Afternoon  \n",
      "999                  60           Online        Mrs.     Midnight  \n",
      "\n",
      "[686 rows x 10 columns]\n"
     ]
    }
   ],
   "source": [
    "\n",
    "import pandas as pd\n",
    "df=pd.read_csv( \"C:\\Data science\\DATA SET\\Balaji Fast Food Sales.csv\")\n",
    "grouped=df.groupby('item_type')\n",
    "for item_type,groups in grouped:\n",
    "    print(item_type)\n",
    "    print(groups)\n"
   ]
  },
  {
   "cell_type": "markdown",
   "metadata": {},
   "source": [
    "7 BOX PLOT OF TRANSACTION AMOUNT BY ITEM PRICE"
   ]
  },
  {
   "cell_type": "code",
   "execution_count": 17,
   "metadata": {},
   "outputs": [
    {
     "name": "stdout",
     "output_type": "stream",
     "text": [
      "<pandas.core.groupby.generic.SeriesGroupBy object at 0x000001826C273640>\n"
     ]
    },
    {
     "data": {
      "image/png": "[encoded data removed]",
      "text/plain": [
       "<Figure size 640x480 with 1 Axes>"
      ]
     },
     "metadata": {},
     "output_type": "display_data"
    }
   ],
   "source": [
    "import pandas as pd\n",
    "import matplotlib.pyplot as plt0\n",
    "import seaborn as sns\n",
    "df=pd.read_csv( \"C:\\Data science\\DATA SET\\Balaji Fast Food Sales.csv\")\n",
    "mean_item_type=df.groupby('item_price')['transaction_amount']\n",
    "print(mean_item_type)\n",
    "sns.boxplot(x='item_price',y='transaction_amount',data=df)\n",
    "plt.title('transaction_amount by item_price')\n",
    "plt.show()"
   ]
  },
  {
   "cell_type": "markdown",
   "metadata": {},
   "source": [
    "8 max and min value of quantity and item price"
   ]
  },
  {
   "cell_type": "code",
   "execution_count": null,
   "metadata": {},
   "outputs": [
    {
     "data": {
      "text/plain": [
       "max    60\n",
       "Name: item_price, dtype: int64"
      ]
     },
     "execution_count": 18,
     "metadata": {},
     "output_type": "execute_result"
    }
   ],
   "source": [
    "\n",
    "import pandas as pd\n",
    "df=pd.read_csv( \"C:\\Data science\\DATA SET\\Balaji Fast Food Sales.csv\")\n",
    "df['quantity'].agg(['min'])\n",
    "df['item_price'].agg(['max'])\n"
   ]
  },
  {
   "cell_type": "markdown",
   "metadata": {},
   "source": [
    "9 FIND THE DATA WITH TIME OF SALE"
   ]
  },
  {
   "cell_type": "code",
   "execution_count": null,
   "metadata": {},
   "outputs": [
    {
     "name": "stdout",
     "output_type": "stream",
     "text": [
      "         date time_of_sale\n",
      "0  02-03-2023           PM\n",
      "1  03-30-2023           PM\n",
      "2  03-17-2023           PM\n",
      "3  10-02-2022           PM\n",
      "4   9-15-2022           PM\n"
     ]
    }
   ],
   "source": [
    "\n",
    "import pandas as pd\n",
    "df=pd.read_csv(\"C:\\Data science\\DATA SET\\Balaji Fast Food Sales.csv\")\n",
    "df={'date':['02-03-2023','03-30-2023','03-17-2023','10-02-2022','9-15-2022'],\n",
    "      'time_of_sale':'PM',}\n",
    "df=pd.DataFrame(df)\n",
    "print(df)\n"
   ]
  },
  {
   "cell_type": "markdown",
   "metadata": {},
   "source": [
    "10 CHECK THE COUNT OF QUANTITY"
   ]
  },
  {
   "cell_type": "code",
   "execution_count": null,
   "metadata": {},
   "outputs": [
    {
     "data": {
      "text/plain": [
       "Quantity\n",
       "6     0.25\n",
       "8     0.25\n",
       "9     0.25\n",
       "10    0.25\n",
       "Name: proportion, dtype: float64"
      ]
     },
     "execution_count": 37,
     "metadata": {},
     "output_type": "execute_result"
    }
   ],
   "source": [
    "\n",
    "df['Quantity'].value_counts(normalize=True)"
   ]
  },
  {
   "cell_type": "markdown",
   "metadata": {},
   "source": [
    "11 max and min value of transaction amount"
   ]
  },
  {
   "cell_type": "code",
   "execution_count": 9,
   "metadata": {},
   "outputs": [
    {
     "data": {
      "text/plain": [
       "max    60\n",
       "Name: item_price, dtype: int64"
      ]
     },
     "execution_count": 9,
     "metadata": {},
     "output_type": "execute_result"
    }
   ],
   "source": [
    "import pandas as pd\n",
    "df=pd.read_csv( \"C:\\Data science\\DATA SET\\Balaji Fast Food Sales.csv\")\n",
    "df['transaction_amount'].agg(['min'])\n",
    "df['item_price'].agg(['max'])\n"
   ]
  },
  {
   "cell_type": "markdown",
   "metadata": {},
   "source": [
    "12 count value of item price"
   ]
  },
  {
   "cell_type": "code",
   "execution_count": null,
   "metadata": {},
   "outputs": [
    {
     "data": {
      "text/plain": [
       "item_price\n",
       "20    0.418\n",
       "40    0.161\n",
       "25    0.153\n",
       "50    0.139\n",
       "60    0.129\n",
       "Name: proportion, dtype: float64"
      ]
     },
     "execution_count": 10,
     "metadata": {},
     "output_type": "execute_result"
    }
   ],
   "source": [
    "\n",
    "df=pd.read_csv( \"C:\\Data science\\DATA SET\\Balaji Fast Food Sales.csv\")\n",
    "df['item_price'].value_counts(normalize=True)\n"
   ]
  },
  {
   "cell_type": "markdown",
   "metadata": {},
   "source": [
    "13 check count value of order id"
   ]
  },
  {
   "cell_type": "code",
   "execution_count": null,
   "metadata": {},
   "outputs": [
    {
     "data": {
      "text/plain": [
       "order_id\n",
       "1000    0.001\n",
       "1       0.001\n",
       "2       0.001\n",
       "3       0.001\n",
       "4       0.001\n",
       "        ...  \n",
       "13      0.001\n",
       "12      0.001\n",
       "11      0.001\n",
       "10      0.001\n",
       "9       0.001\n",
       "Name: proportion, Length: 1000, dtype: float64"
      ]
     },
     "execution_count": 11,
     "metadata": {},
     "output_type": "execute_result"
    }
   ],
   "source": [
    "df['order_id'].value_counts(normalize=True)"
   ]
  },
  {
   "cell_type": "markdown",
   "metadata": {},
   "source": [
    "14 count of transaction amount"
   ]
  },
  {
   "cell_type": "code",
   "execution_count": null,
   "metadata": {},
   "outputs": [
    {
     "data": {
      "text/plain": [
       "transaction_amount\n",
       "300    0.057\n",
       "200    0.056\n",
       "60     0.047\n",
       "40     0.046\n",
       "120    0.044\n",
       "100    0.044\n",
       "240    0.042\n",
       "280    0.041\n",
       "260    0.034\n",
       "350    0.033\n",
       "160    0.032\n",
       "80     0.031\n",
       "20     0.031\n",
       "400    0.028\n",
       "600    0.028\n",
       "180    0.027\n",
       "220    0.022\n",
       "140    0.022\n",
       "250    0.019\n",
       "420    0.017\n",
       "360    0.017\n",
       "650    0.017\n",
       "480    0.017\n",
       "25     0.016\n",
       "900    0.014\n",
       "500    0.014\n",
       "175    0.014\n",
       "520    0.014\n",
       "150    0.013\n",
       "320    0.012\n",
       "325    0.012\n",
       "750    0.011\n",
       "50     0.011\n",
       "450    0.010\n",
       "440    0.010\n",
       "125    0.010\n",
       "840    0.010\n",
       "225    0.009\n",
       "780    0.009\n",
       "560    0.009\n",
       "375    0.009\n",
       "660    0.007\n",
       "540    0.007\n",
       "75     0.007\n",
       "720    0.007\n",
       "550    0.005\n",
       "275    0.005\n",
       "700    0.003\n",
       "Name: proportion, dtype: float64"
      ]
     },
     "execution_count": 14,
     "metadata": {},
     "output_type": "execute_result"
    }
   ],
   "source": [
    "\n",
    "df['transaction_amount'].value_counts(normalize=True)"
   ]
  },
  {
   "cell_type": "markdown",
   "metadata": {},
   "source": [
    "15 find the minimum item price"
   ]
  },
  {
   "cell_type": "code",
   "execution_count": null,
   "metadata": {},
   "outputs": [
    {
     "data": {
      "text/plain": [
       "min    20\n",
       "Name: item_price, dtype: int64"
      ]
     },
     "execution_count": 22,
     "metadata": {},
     "output_type": "execute_result"
    }
   ],
   "source": [
    "df=pd.read_csv( \"C:\\Data science\\DATA SET\\Balaji Fast Food Sales.csv\")\n",
    "df['item_price'].agg(['min'])"
   ]
  },
  {
   "cell_type": "markdown",
   "metadata": {},
   "source": [
    "ANALYSIS SUMMARY:\n",
    "\n",
    ">Our analysis of food sales data reveals key trends and insights that can inform business decisions.The data covers sales transactions from[03/05/2022]to[30/03/2023].\n",
    "\n",
    "KEY FINDINGS:\n",
    "\n",
    ">Total ID of customers        :999\n",
    ">Most selling type            :Beverages\n",
    ">minimum food quantity        :1.000000\n",
    ">maximum price of food        :60/-\n",
    ">Highest transaction amount   :999/-\n",
    ">Lowest quantity of item      :vadapav\n",
    "\n",
    "LIMITATIONS:\n",
    "\n",
    ">Data Quality  :  The accuracy of the analysis depends on the quality of the sales data."
   ]
  }
 ],
 "metadata": {
  "kernelspec": {
   "display_name": "Python 3",
   "language": "python",
   "name": "python3"
  },
  "language_info": {
   "codemirror_mode": {
    "name": "ipython",
    "version": 3
   },
   "file_extension": ".py",
   "mimetype": "text/x-python",
   "name": "python",
   "nbconvert_exporter": "python",
   "pygments_lexer": "ipython3",
   "version": "3.10.11"
  }
 },
 "nbformat": 4,
 "nbformat_minor": 2
}
